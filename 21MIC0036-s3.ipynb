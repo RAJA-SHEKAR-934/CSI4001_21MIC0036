{
 "cells": [
  {
   "cell_type": "code",
   "execution_count": 1,
   "id": "690c2f11-fa89-44c8-9546-d0b7bcd8b037",
   "metadata": {},
   "outputs": [],
   "source": [
    "from sklearn.feature_extraction.text import TfidfVectorizer\n",
    "from sklearn.metrics.pairwise import cosine_similarity"
   ]
  },
  {
   "cell_type": "code",
   "execution_count": 3,
   "id": "cc621eb5-7e79-4b83-98b9-ca0abdfa6b8c",
   "metadata": {},
   "outputs": [],
   "source": [
    "text1 = \"Machine learning models often use cosine similarity to compare document embeddings.\"  \n",
    "text2 = \"In natural language processing, cosine similarity helps measure the closeness of text representations.\""
   ]
  },
  {
   "cell_type": "code",
   "execution_count": 5,
   "id": "da9a63c4-6c98-48de-9a65-4b75946c20f1",
   "metadata": {},
   "outputs": [],
   "source": [
    "vectorizer = TfidfVectorizer(stop_words='english')  \n",
    "tfidf_matrix = vectorizer.fit_transform([text1, text2])"
   ]
  },
  {
   "cell_type": "code",
   "execution_count": 7,
   "id": "1976dfbb-0dd5-4726-97c5-5f0c9e60e56a",
   "metadata": {},
   "outputs": [
    {
     "name": "stdout",
     "output_type": "stream",
     "text": [
      "Cosine Similarity: 0.1191\n"
     ]
    }
   ],
   "source": [
    "cosine_sim1 = cosine_similarity(tfidf_matrix[0], tfidf_matrix[1])\n",
    "print(f\"Cosine Similarity: {cosine_sim1[0][0]:.4f}\")"
   ]
  },
  {
   "cell_type": "code",
   "execution_count": 9,
   "id": "f175011c-5b03-4152-8d04-c7c6be94ca6a",
   "metadata": {},
   "outputs": [
    {
     "name": "stderr",
     "output_type": "stream",
     "text": [
      "[nltk_data] Downloading package punkt to\n",
      "[nltk_data]     C:\\Users\\rajes\\AppData\\Roaming\\nltk_data...\n",
      "[nltk_data]   Package punkt is already up-to-date!\n"
     ]
    },
    {
     "data": {
      "text/plain": [
       "True"
      ]
     },
     "execution_count": 9,
     "metadata": {},
     "output_type": "execute_result"
    }
   ],
   "source": [
    "import nltk\n",
    "from nltk.stem import PorterStemmer\n",
    "from nltk.tokenize import word_tokenize\n",
    "from sklearn.feature_extraction.text import TfidfVectorizer\n",
    "from sklearn.metrics.pairwise import cosine_similarity\n",
    "nltk.download('punkt')"
   ]
  },
  {
   "cell_type": "code",
   "execution_count": 11,
   "id": "234c07d5-fb5b-4122-838d-b626f2464974",
   "metadata": {},
   "outputs": [],
   "source": [
    "stemmer = PorterStemmer()\n"
   ]
  },
  {
   "cell_type": "code",
   "execution_count": 13,
   "id": "714ba3c9-4f6e-4e55-92ea-47b78de2c207",
   "metadata": {},
   "outputs": [],
   "source": [
    "def stem_text(text):\n",
    "    words = word_tokenize(text)\n",
    "    stemmed_words = [stemmer.stem(word) for word in words]\n",
    "    return \" \".join(stemmed_words)"
   ]
  },
  {
   "cell_type": "code",
   "execution_count": null,
   "id": "5d5e0004-c940-46be-a136-67d4c820070f",
   "metadata": {},
   "outputs": [],
   "source": [
    "text1_stemmed = stem_text(text1)\n",
    "text2_stemmed = stem_text(text2)"
   ]
  }
 ],
 "metadata": {
  "kernelspec": {
   "display_name": "Python 3 (ipykernel)",
   "language": "python",
   "name": "python3"
  },
  "language_info": {
   "codemirror_mode": {
    "name": "ipython",
    "version": 3
   },
   "file_extension": ".py",
   "mimetype": "text/x-python",
   "name": "python",
   "nbconvert_exporter": "python",
   "pygments_lexer": "ipython3",
   "version": "3.12.7"
  }
 },
 "nbformat": 4,
 "nbformat_minor": 5
}
